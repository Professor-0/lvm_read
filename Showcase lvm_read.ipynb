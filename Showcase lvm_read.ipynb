{
 "cells": [
  {
   "cell_type": "code",
   "execution_count": 14,
   "metadata": {},
   "outputs": [],
   "source": [
    "import lvm_read\n",
    "import numpy as np\n",
    "import matplotlib.pyplot as plt\n",
    "%matplotlib inline\n",
    "import urllib\n",
    "import datetime"
   ]
  },
  {
   "attachments": {},
   "cell_type": "markdown",
   "metadata": {},
   "source": [
    "# Showcase of the package ``lvm_read``"
   ]
  },
  {
   "attachments": {},
   "cell_type": "markdown",
   "metadata": {},
   "source": [
    "April 2023, J. Slavič (janko.slavic@fs.uni-lj.si, [ladisk.si/~slavic](http://ladisk.si/~slavic))"
   ]
  },
  {
   "attachments": {},
   "cell_type": "markdown",
   "metadata": {},
   "source": [
    "## Open the sample with ``lvm_read``"
   ]
  },
  {
   "cell_type": "code",
   "execution_count": 2,
   "metadata": {},
   "outputs": [],
   "source": [
    "filename = 'short.lvm'\n",
    "#filename = 'long_single_header_multi_ch.lvm'\n",
    "#filename = 'long.lvm'\n",
    "#filename = 'with_empty_fields.lvm'\n",
    "#filename = 'multi_time_column.lvm'"
   ]
  },
  {
   "cell_type": "code",
   "execution_count": 6,
   "metadata": {},
   "outputs": [],
   "source": [
    "#%%timeit -n1\n",
    "lvm = lvm_read.read('./data/'+filename, read_from_pickle=False)"
   ]
  },
  {
   "attachments": {},
   "cell_type": "markdown",
   "metadata": {},
   "source": [
    "Header of the lvm file"
   ]
  },
  {
   "cell_type": "code",
   "execution_count": 13,
   "metadata": {},
   "outputs": [
    {
     "data": {
      "text/plain": [
       "dict_keys(['Description', 'Multi_Headings', 'Operator', 'Project', 'Reader_Version', 'Separator', 'Decimal_Separator', 'Time_Pref', 'X_Columns', 'LabVIEW Measurement', 'Writer_Version', 'Date', 'Time'])"
      ]
     },
     "execution_count": 13,
     "metadata": {},
     "output_type": "execute_result"
    }
   ],
   "source": [
    "lvm['file_header'].keys()"
   ]
  },
  {
   "attachments": {},
   "cell_type": "markdown",
   "metadata": {},
   "source": [
    "E.g.: time of measurement:"
   ]
  },
  {
   "cell_type": "code",
   "execution_count": 19,
   "metadata": {},
   "outputs": [
    {
     "data": {
      "text/plain": [
       "'Tue Feb 19 09:51:39 2013'"
      ]
     },
     "execution_count": 19,
     "metadata": {},
     "output_type": "execute_result"
    }
   ],
   "source": [
    "datetime.datetime.combine(lvm['file_header']['Date'], lvm['file_header']['Time']).ctime()"
   ]
  },
  {
   "attachments": {},
   "cell_type": "markdown",
   "metadata": {},
   "source": [
    "## Segment details"
   ]
  },
  {
   "attachments": {},
   "cell_type": "markdown",
   "metadata": {},
   "source": [
    "Segments are accessed by index"
   ]
  },
  {
   "cell_type": "code",
   "execution_count": 20,
   "metadata": {},
   "outputs": [
    {
     "data": {
      "text/plain": [
       "{'Header': {'Notes': '',\n",
       "  'Test_Name': '',\n",
       "  'Test_Numbers': '',\n",
       "  'Test_Series': '',\n",
       "  'UUT_M/N': '',\n",
       "  'UUT_Name': '',\n",
       "  'UUT_S/N': '',\n",
       "  'X_Dimension': ['Time', 'Time'],\n",
       "  'X_Unit_Label': 'Default SI Unit',\n",
       "  'Y_Dimension': 'Electric Potential',\n",
       "  'Y_Unit_Label': ['Newtons', 'm/s^2'],\n",
       "  'Channels': 2,\n",
       "  'Samples': [10, 10],\n",
       "  'Date': [datetime.date(2013, 2, 19), datetime.date(2013, 2, 19)],\n",
       "  'Time': [datetime.time(9, 51, 40, 727189), datetime.time(9, 51, 40, 727189)],\n",
       "  'X0': [0, 0],\n",
       "  'Delta_X': [3.90625e-05, 3.90625e-05],\n",
       "  'Columns': ['X_Value',\n",
       "   'Excitation (Trigger)',\n",
       "   'Response (Trigger)',\n",
       "   'Comment'],\n",
       "  'Y_Labels': ['Excitation (Trigger)', 'Response (Trigger)', 'Comment']},\n",
       " 'Data': [[[0.0,\n",
       "    3.90625e-05,\n",
       "    7.8125e-05,\n",
       "    0.0001171875,\n",
       "    0.00015625,\n",
       "    0.0001953125,\n",
       "    0.000234375,\n",
       "    0.0002734375,\n",
       "    0.0003125,\n",
       "    0.0003515625],\n",
       "   [0.914018,\n",
       "    0.537321,\n",
       "    0.616905,\n",
       "    0.895449,\n",
       "    0.57446,\n",
       "    0.516099,\n",
       "    1.046658,\n",
       "    0.39407,\n",
       "    0.741586,\n",
       "    0.680572]],\n",
       "  [[0.0,\n",
       "    3.90625e-05,\n",
       "    7.8125e-05,\n",
       "    0.0001171875,\n",
       "    0.00015625,\n",
       "    0.0001953125,\n",
       "    0.000234375,\n",
       "    0.0002734375,\n",
       "    0.0003125,\n",
       "    0.0003515625],\n",
       "   [1.204792,\n",
       "    1.208403,\n",
       "    1.213915,\n",
       "    1.212205,\n",
       "    1.222088,\n",
       "    1.218223,\n",
       "    1.213408,\n",
       "    1.221011,\n",
       "    1.211888,\n",
       "    1.212775]]],\n",
       " 'Comments': ['', '', '', '', '', '', '', '', '', '']}"
      ]
     },
     "execution_count": 20,
     "metadata": {},
     "output_type": "execute_result"
    }
   ],
   "source": [
    "lvm['segments'][0]"
   ]
  },
  {
   "cell_type": "markdown",
   "metadata": {},
   "source": [
    "Each segment has its own header, data, and comments section"
   ]
  },
  {
   "cell_type": "markdown",
   "metadata": {},
   "source": [
    "The headers of the segments look like:"
   ]
  },
  {
   "cell_type": "code",
   "execution_count": 24,
   "metadata": {},
   "outputs": [
    {
     "data": {
      "text/plain": [
       "{'Notes': '',\n",
       " 'Test_Name': '',\n",
       " 'Test_Numbers': '',\n",
       " 'Test_Series': '',\n",
       " 'UUT_M/N': '',\n",
       " 'UUT_Name': '',\n",
       " 'UUT_S/N': '',\n",
       " 'X_Dimension': ['Time', 'Time'],\n",
       " 'X_Unit_Label': 'Default SI Unit',\n",
       " 'Y_Dimension': 'Electric Potential',\n",
       " 'Y_Unit_Label': ['Newtons', 'm/s^2'],\n",
       " 'Channels': 2,\n",
       " 'Samples': [10, 10],\n",
       " 'Date': [datetime.date(2013, 2, 19), datetime.date(2013, 2, 19)],\n",
       " 'Time': [datetime.time(9, 51, 40, 727189), datetime.time(9, 51, 40, 727189)],\n",
       " 'X0': [0, 0],\n",
       " 'Delta_X': [3.90625e-05, 3.90625e-05],\n",
       " 'Columns': ['X_Value',\n",
       "  'Excitation (Trigger)',\n",
       "  'Response (Trigger)',\n",
       "  'Comment'],\n",
       " 'Y_Labels': ['Excitation (Trigger)', 'Response (Trigger)', 'Comment']}"
      ]
     },
     "execution_count": 24,
     "metadata": {},
     "output_type": "execute_result"
    }
   ],
   "source": [
    "lvm['segments'][0]['header']"
   ]
  },
  {
   "cell_type": "markdown",
   "metadata": {},
   "source": [
    "Each Y Column comes paired with its X column e.g.,"
   ]
  },
  {
   "cell_type": "code",
   "execution_count": 37,
   "metadata": {},
   "outputs": [
    {
     "data": {
      "text/plain": [
       "[[0.0,\n",
       "  3.90625e-05,\n",
       "  7.8125e-05,\n",
       "  0.0001171875,\n",
       "  0.00015625,\n",
       "  0.0001953125,\n",
       "  0.000234375,\n",
       "  0.0002734375,\n",
       "  0.0003125,\n",
       "  0.0003515625],\n",
       " [1.204792,\n",
       "  1.208403,\n",
       "  1.213915,\n",
       "  1.212205,\n",
       "  1.222088,\n",
       "  1.218223,\n",
       "  1.213408,\n",
       "  1.221011,\n",
       "  1.211888,\n",
       "  1.212775]]"
      ]
     },
     "execution_count": 37,
     "metadata": {},
     "output_type": "execute_result"
    }
   ],
   "source": [
    "lvm['segments'][0]['data'][1]"
   ]
  },
  {
   "cell_type": "markdown",
   "metadata": {},
   "source": [
    "Plots can be generated via:"
   ]
  },
  {
   "cell_type": "code",
   "execution_count": 42,
   "metadata": {},
   "outputs": [
    {
     "data": {
      "image/png": "[encoded data removed]",
      "text/plain": [
       "<Figure size 640x480 with 1 Axes>"
      ]
     },
     "metadata": {},
     "output_type": "display_data"
    }
   ],
   "source": [
    "for seg in lvm['segments']:\n",
    "    labels = [f\"{l} ({u})\" for l,u in zip(seg['Header']['Y_Labels'], seg['Header']['Y_Unit_Label'])]\n",
    "    for ch, l in zip(seg['data'], labels):\n",
    "        plt.plot(*ch, label=l)\n",
    "\n",
    "    plt.legend()\n",
    "    plt.xlabel(seg['Header']['X_Dimension'][0])\n",
    "    plt.ylabel(seg['Header']['Y_Dimension'])\n",
    "    plt.show()"
   ]
  },
  {
   "cell_type": "code",
   "execution_count": null,
   "metadata": {},
   "outputs": [],
   "source": []
  }
 ],
 "metadata": {
  "anaconda-cloud": {},
  "kernelspec": {
   "display_name": "lvm_read",
   "language": "python",
   "name": "lvm_read"
  },
  "language_info": {
   "codemirror_mode": {
    "name": "ipython",
    "version": 3
   },
   "file_extension": ".py",
   "mimetype": "text/x-python",
   "name": "python",
   "nbconvert_exporter": "python",
   "pygments_lexer": "ipython3",
   "version": "3.12.3"
  },
  "latex_envs": {
   "bibliofile": "biblio.bib",
   "cite_by": "apalike",
   "current_citInitial": 1,
   "eqLabelWithNumbers": true,
   "eqNumInitial": 0
  },
  "nav_menu": {},
  "toc": {
   "base_numbering": 1,
   "nav_menu": {},
   "number_sections": true,
   "sideBar": true,
   "skip_h1_title": false,
   "title_cell": "Kazalo",
   "title_sidebar": "Kazalo",
   "toc_cell": false,
   "toc_position": {},
   "toc_section_display": "block",
   "toc_window_display": false
  }
 },
 "nbformat": 4,
 "nbformat_minor": 4
}
