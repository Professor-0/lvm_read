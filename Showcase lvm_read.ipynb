{
 "cells": [
  {
   "cell_type": "code",
   "execution_count": 1,
   "metadata": {},
   "outputs": [],
   "source": [
    "import lvm_read\n",
    "import numpy as np\n",
    "import matplotlib.pyplot as plt\n",
    "%matplotlib inline\n",
    "import urllib"
   ]
  },
  {
   "cell_type": "markdown",
   "metadata": {},
   "source": [
    "# Showcase of the package ``lvm_read``"
   ]
  },
  {
   "cell_type": "markdown",
   "metadata": {},
   "source": [
    "April 2020, J. Slavič (janko.slavic@fs.uni-lj.si, [ladisk.si/~slavic](http://ladisk.si/~slavic))"
   ]
  },
  {
   "cell_type": "markdown",
   "metadata": {},
   "source": [
    "## Open the sample with ``lvm_read``"
   ]
  },
  {
   "cell_type": "code",
   "execution_count": 5,
   "metadata": {},
   "outputs": [],
   "source": [
    "filename = 'short.lvm'\n",
    "#filename = 'long.lvm'\n",
    "#filename = 'with_empty_fields.lvm'\n",
    "#filename = 'multi_time_column.lvm'"
   ]
  },
  {
   "cell_type": "code",
   "execution_count": 10,
   "metadata": {},
   "outputs": [],
   "source": [
    "#%%timeit -n1\n",
    "lvm = lvm_read.read('.\\\\data\\\\'+filename, read_from_pickle=False)"
   ]
  },
  {
   "cell_type": "markdown",
   "metadata": {},
   "source": [
    "Header of the lvm file"
   ]
  },
  {
   "cell_type": "code",
   "execution_count": 11,
   "metadata": {},
   "outputs": [
    {
     "data": {
      "text/plain": [
       "dict_keys(['Decimal_Separator', 'Writer_Version', 'Reader_Version', 'Separator', 'Multi_Headings', 'X_Columns', 'Time_Pref', 'Operator', 'Date', 'Time', 0, 'Segments'])"
      ]
     },
     "execution_count": 11,
     "metadata": {},
     "output_type": "execute_result"
    }
   ],
   "source": [
    "lvm.keys()"
   ]
  },
  {
   "cell_type": "markdown",
   "metadata": {},
   "source": [
    "E.g.: number of segments in the lvm file:"
   ]
  },
  {
   "cell_type": "code",
   "execution_count": 12,
   "metadata": {},
   "outputs": [
    {
     "data": {
      "text/plain": [
       "1"
      ]
     },
     "execution_count": 12,
     "metadata": {},
     "output_type": "execute_result"
    }
   ],
   "source": [
    "lvm['Segments']"
   ]
  },
  {
   "cell_type": "markdown",
   "metadata": {},
   "source": [
    "## Segment details"
   ]
  },
  {
   "cell_type": "markdown",
   "metadata": {},
   "source": [
    "Segments are accessed by index"
   ]
  },
  {
   "cell_type": "code",
   "execution_count": 13,
   "metadata": {},
   "outputs": [
    {
     "data": {
      "text/plain": [
       "{'Channels': 2,\n",
       " 'Samples': [10, 10, nan],\n",
       " 'Date': ['2013/02/19', '2013/02/19', ''],\n",
       " 'Time': ['09:51:40,7271890640258789063', '09:51:40,7271890640258789063', ''],\n",
       " 'Y_Unit_Label': ['Newtons', 'm/s^2', ''],\n",
       " 'X_Dimension': ['Time', 'Time', ''],\n",
       " 'X0': [0.0, 0.0, nan],\n",
       " 'Delta_X': [3.90625e-05, 3.90625e-05, nan],\n",
       " 'data': array([[0.914018, 1.204792],\n",
       "        [0.537321, 1.208403],\n",
       "        [0.616905, 1.213915],\n",
       "        [0.895449, 1.212205],\n",
       "        [0.57446 , 1.222088],\n",
       "        [0.516099, 1.218223],\n",
       "        [1.046658, 1.213408],\n",
       "        [0.39407 , 1.221011],\n",
       "        [0.741586, 1.211888],\n",
       "        [0.680572, 1.212775]]),\n",
       " 'Channel names': ['Excitation (Trigger)', 'Response (Trigger)', 'Comment']}"
      ]
     },
     "execution_count": 13,
     "metadata": {},
     "output_type": "execute_result"
    }
   ],
   "source": [
    "lvm[0]"
   ]
  },
  {
   "cell_type": "code",
   "execution_count": 14,
   "metadata": {},
   "outputs": [
    {
     "data": {
      "text/plain": [
       "{'Channels': 2,\n",
       " 'Samples': [10, 10, nan],\n",
       " 'Date': ['2013/02/19', '2013/02/19', ''],\n",
       " 'Time': ['09:51:40,7271890640258789063', '09:51:40,7271890640258789063', ''],\n",
       " 'Y_Unit_Label': ['Newtons', 'm/s^2', ''],\n",
       " 'X_Dimension': ['Time', 'Time', ''],\n",
       " 'X0': [0.0, 0.0, nan],\n",
       " 'Delta_X': [3.90625e-05, 3.90625e-05, nan],\n",
       " 'data': array([[0.914018, 1.204792],\n",
       "        [0.537321, 1.208403],\n",
       "        [0.616905, 1.213915],\n",
       "        [0.895449, 1.212205],\n",
       "        [0.57446 , 1.222088],\n",
       "        [0.516099, 1.218223],\n",
       "        [1.046658, 1.213408],\n",
       "        [0.39407 , 1.221011],\n",
       "        [0.741586, 1.211888],\n",
       "        [0.680572, 1.212775]]),\n",
       " 'Channel names': ['Excitation (Trigger)', 'Response (Trigger)', 'Comment']}"
      ]
     },
     "execution_count": 14,
     "metadata": {},
     "output_type": "execute_result"
    }
   ],
   "source": [
    "lvm[0]"
   ]
  },
  {
   "cell_type": "code",
   "execution_count": 15,
   "metadata": {},
   "outputs": [
    {
     "data": {
      "text/plain": [
       "array([[0.914018, 1.204792],\n",
       "       [0.537321, 1.208403],\n",
       "       [0.616905, 1.213915],\n",
       "       [0.895449, 1.212205],\n",
       "       [0.57446 , 1.222088],\n",
       "       [0.516099, 1.218223],\n",
       "       [1.046658, 1.213408],\n",
       "       [0.39407 , 1.221011],\n",
       "       [0.741586, 1.211888],\n",
       "       [0.680572, 1.212775]])"
      ]
     },
     "execution_count": 15,
     "metadata": {},
     "output_type": "execute_result"
    }
   ],
   "source": [
    "lvm[0]['data']"
   ]
  },
  {
   "cell_type": "code",
   "execution_count": 16,
   "metadata": {},
   "outputs": [
    {
     "data": {
      "image/png": "[encoded data removed]",
      "text/plain": [
       "<Figure size 432x288 with 1 Axes>"
      ]
     },
     "metadata": {
      "needs_background": "light"
     },
     "output_type": "display_data"
    }
   ],
   "source": [
    "plt.plot(lvm[0]['data']);"
   ]
  }
 ],
 "metadata": {
  "anaconda-cloud": {},
  "kernelspec": {
   "display_name": "Python 3",
   "language": "python",
   "name": "python3"
  },
  "language_info": {
   "codemirror_mode": {
    "name": "ipython",
    "version": 3
   },
   "file_extension": ".py",
   "mimetype": "text/x-python",
   "name": "python",
   "nbconvert_exporter": "python",
   "pygments_lexer": "ipython3",
   "version": "3.7.7"
  },
  "latex_envs": {
   "bibliofile": "biblio.bib",
   "cite_by": "apalike",
   "current_citInitial": 1,
   "eqLabelWithNumbers": true,
   "eqNumInitial": 0
  },
  "nav_menu": {},
  "toc": {
   "base_numbering": 1,
   "nav_menu": {},
   "number_sections": true,
   "sideBar": true,
   "skip_h1_title": false,
   "title_cell": "Kazalo",
   "title_sidebar": "Kazalo",
   "toc_cell": false,
   "toc_position": {},
   "toc_section_display": "block",
   "toc_window_display": false
  }
 },
 "nbformat": 4,
 "nbformat_minor": 1
}
